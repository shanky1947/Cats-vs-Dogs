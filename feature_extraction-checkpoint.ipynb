{
 "cells": [
  {
   "cell_type": "markdown",
   "metadata": {
    "collapsed": true
   },
   "source": [
    "# feature extraction"
   ]
  },
  {
   "cell_type": "code",
   "execution_count": 1,
   "metadata": {},
   "outputs": [],
   "source": [
    "import cv2"
   ]
  },
  {
   "cell_type": "code",
   "execution_count": 2,
   "metadata": {},
   "outputs": [],
   "source": [
    "import os\n",
    "from tqdm import tqdm #to show process bar"
   ]
  },
  {
   "cell_type": "code",
   "execution_count": 3,
   "metadata": {},
   "outputs": [],
   "source": [
    "train='D://ML/DATA/dogs-vs-cats/train/train'\n",
    "predict='D://ML/DATA/dogs-vs-cats/test1/test1'"
   ]
  },
  {
   "cell_type": "code",
   "execution_count": 4,
   "metadata": {},
   "outputs": [
    {
     "data": {
      "text/plain": [
       "'cat'"
      ]
     },
     "execution_count": 4,
     "metadata": {},
     "output_type": "execute_result"
    }
   ],
   "source": [
    "n='cat.1.jpg'\n",
    "n.split('.')[0]"
   ]
  },
  {
   "cell_type": "code",
   "execution_count": 5,
   "metadata": {},
   "outputs": [],
   "source": [
    "def label_img(img):\n",
    "    label=img.split('.')\n",
    "    if label[0]=='cat':\n",
    "        return 0\n",
    "    elif label[0]=='dog':\n",
    "        return 1"
   ]
  },
  {
   "cell_type": "code",
   "execution_count": 6,
   "metadata": {},
   "outputs": [
    {
     "name": "stdout",
     "output_type": "stream",
     "text": [
      "None\n",
      "None\n",
      "None\n",
      "None\n",
      "None\n",
      "None\n",
      "None\n",
      "None\n",
      "None\n"
     ]
    }
   ],
   "source": [
    "for i in n:\n",
    "    r=label_img(i)\n",
    "    print(r)"
   ]
  },
  {
   "cell_type": "code",
   "execution_count": 7,
   "metadata": {},
   "outputs": [],
   "source": [
    "#Feature extraction\n",
    "from random import shuffle\n",
    "train_data=[]\n",
    "def feature_data():\n",
    "    for i in tqdm(os.listdir(train)):\n",
    "        label=label_img(i)\n",
    "        path=os.path.join(train,i) #train/cat.01.jpg etc.\n",
    "        feature=cv2.imread(path,0) #extract features or pixels(mathematical value of image)\n",
    "        feature=cv2.resize(feature,(50,50)) #converting all images to same size\n",
    "        train_data.append([[feature],[label]]) \n",
    "    shuffle(train_data)\n",
    "    return train_data"
   ]
  },
  {
   "cell_type": "code",
   "execution_count": 8,
   "metadata": {},
   "outputs": [
    {
     "name": "stderr",
     "output_type": "stream",
     "text": [
      "100%|███████████████████████████████████████████████████████████████████████████| 25000/25000 [01:03<00:00, 396.59it/s]\n"
     ]
    }
   ],
   "source": [
    "training=feature_data()"
   ]
  },
  {
   "cell_type": "code",
   "execution_count": 9,
   "metadata": {},
   "outputs": [],
   "source": [
    "from random import shuffle\n",
    "test_data=[]\n",
    "def testing_data():\n",
    "    for i in tqdm(os.listdir(predict)):\n",
    "        label=label_img(i)\n",
    "        path=os.path.join(predict,i) #train/cat.01.jpg etc.\n",
    "        feature=cv2.imread(path,0) #extract features or pixels\n",
    "        feature=cv2.resize(feature,(50,50)) #converting all images to same size\n",
    "        test_data.append([[feature],[label]]) \n",
    "    shuffle(test_data)\n",
    "    return test_data"
   ]
  },
  {
   "cell_type": "code",
   "execution_count": 10,
   "metadata": {},
   "outputs": [
    {
     "name": "stderr",
     "output_type": "stream",
     "text": [
      "100%|███████████████████████████████████████████████████████████████████████████| 12500/12500 [00:59<00:00, 210.39it/s]\n"
     ]
    }
   ],
   "source": [
    "testing=testing_data()"
   ]
  },
  {
   "cell_type": "code",
   "execution_count": 11,
   "metadata": {},
   "outputs": [
    {
     "data": {
      "text/plain": [
       "(25000, 2)"
      ]
     },
     "execution_count": 11,
     "metadata": {},
     "output_type": "execute_result"
    }
   ],
   "source": [
    "import numpy as np\n",
    "training=np.array(training).reshape(25000,2)\n",
    "training.shape"
   ]
  },
  {
   "cell_type": "code",
   "execution_count": 12,
   "metadata": {},
   "outputs": [
    {
     "data": {
      "text/plain": [
       "array([[array([[47, 45, 44, ...,  7, 38, 40],\n",
       "       [47, 48, 36, ..., 16, 41, 46],\n",
       "       [45, 46, 45, ..., 13, 41, 44],\n",
       "       ...,\n",
       "       [ 0,  2,  2, ...,  5,  7,  1],\n",
       "       [ 1,  2,  2, ...,  2,  1,  0],\n",
       "       [ 1,  1,  1, ...,  1,  1,  0]], dtype=uint8),\n",
       "        0],\n",
       "       [array([[ 19,  22,  19, ...,  54,  53,  52],\n",
       "       [ 20,  21,  19, ...,  56,  54,  53],\n",
       "       [ 22,  21,  21, ...,  54,  52,  49],\n",
       "       ...,\n",
       "       [170, 165, 118, ..., 160, 151, 138],\n",
       "       [174, 170, 150, ..., 151, 132, 145],\n",
       "       [176, 177, 182, ..., 155, 145, 154]], dtype=uint8),\n",
       "        0],\n",
       "       [array([[121, 104, 109, ...,  72,  80,  71],\n",
       "       [132, 129, 133, ..., 179, 169, 153],\n",
       "       [131, 131, 129, ..., 179, 177, 170],\n",
       "       ...,\n",
       "       [209, 153, 160, ..., 176, 148, 179],\n",
       "       [177, 155, 213, ..., 181, 176, 179],\n",
       "       [204, 164, 167, ..., 176, 173, 182]], dtype=uint8),\n",
       "        1],\n",
       "       ...,\n",
       "       [array([[158, 162, 147, ..., 132, 136, 146],\n",
       "       [118, 149, 147, ..., 110, 139, 152],\n",
       "       [162, 151, 115, ..., 129, 152, 106],\n",
       "       ...,\n",
       "       [154,  90, 138, ..., 167, 168, 198],\n",
       "       [143,  93, 119, ..., 111, 105, 150],\n",
       "       [ 92, 121, 113, ..., 163, 183, 180]], dtype=uint8),\n",
       "        1],\n",
       "       [array([[ 42,  42,  51, ...,  82,  67,  84],\n",
       "       [ 63,  55,  92, ...,  87,  99,  86],\n",
       "       [ 86,  55,  62, ..., 126, 104,  90],\n",
       "       ...,\n",
       "       [ 70,  83,  89, ..., 139, 153, 134],\n",
       "       [ 91,  68,  82, ..., 118,  59,  90],\n",
       "       [135, 151, 109, ..., 136, 118,  55]], dtype=uint8),\n",
       "        1],\n",
       "       [array([[ 67,  86, 150, ..., 165, 146, 144],\n",
       "       [ 72,  78, 169, ..., 131, 119, 157],\n",
       "       [ 75,  88, 135, ..., 134, 166, 147],\n",
       "       ...,\n",
       "       [136, 158, 190, ...,  88, 178, 206],\n",
       "       [111, 116,  63, ..., 159,  97, 157],\n",
       "       [ 34,  60,  57, ..., 168, 123, 198]], dtype=uint8),\n",
       "        1]], dtype=object)"
      ]
     },
     "execution_count": 12,
     "metadata": {},
     "output_type": "execute_result"
    }
   ],
   "source": [
    "training"
   ]
  },
  {
   "cell_type": "code",
   "execution_count": null,
   "metadata": {},
   "outputs": [],
   "source": [
    "train_data = create_train_data()\n",
    "\n",
    "\n",
    "# In[6]:\n",
    "\n",
    "\n",
    "import tflearn\n",
    "from tflearn.layers.conv import conv_2d, max_pool_2d\n",
    "from tflearn.layers.core import input_data, dropout, fully_connected\n",
    "from tflearn.layers.estimator import regression\n",
    "\n",
    "convnet = input_data(shape=[None, IMG_SIZE, IMG_SIZE, 1], name='input')\n",
    "\n",
    "convnet = conv_2d(convnet, 32, 5, activation='relu')\n",
    "convnet = max_pool_2d(convnet, 5)\n",
    "\n",
    "convnet = conv_2d(convnet, 64, 5, activation='relu')\n",
    "convnet = max_pool_2d(convnet, 5)\n",
    "\n",
    "convnet = conv_2d(convnet, 128, 5, activation='relu')\n",
    "convnet = max_pool_2d(convnet, 5)\n",
    "\n",
    "convnet = conv_2d(convnet, 64, 5, activation='relu')\n",
    "convnet = max_pool_2d(convnet, 5)\n",
    "\n",
    "convnet = fully_connected(convnet, 1024, activation='relu')\n",
    "convnet = dropout(convnet, 0.8)\n",
    "\n",
    "convnet = fully_connected(convnet, 2, activation='softmax')\n",
    "convnet = regression(convnet, optimizer='adam', learning_rate=LR, \n",
    "                     loss='categorical_crossentropy', name='targets')\n",
    "\n",
    "model = tflearn.DNN(convnet)\n",
    "\n",
    "\n",
    "# In[7]:\n",
    "\n",
    "\n",
    "train = train_data[:-500]\n",
    "test = train_data[-500:]\n",
    "\n",
    "\n",
    "# In[8]:\n",
    "\n",
    "\n",
    "X = np.array([i[0] for i in train]).reshape(-1,IMG_SIZE,IMG_SIZE,1)\n",
    "Y = [i[1] for i in train]\n",
    "\n",
    "test_x = np.array([i[0] for i in test]).reshape(-1,IMG_SIZE,IMG_SIZE,1)\n",
    "test_y = [i[1] for i in test]\n",
    "\n",
    "\n",
    "# In[9]:\n",
    "\n",
    "\n",
    "model.fit({'input': X}, {'targets': Y}, n_epoch=10, validation_set=({'input': test_x}, {'targets': test_y}), show_metric=True, run_id=MODEL_NAME)\n",
    "\n",
    "\n",
    "# In[13]:\n",
    "\n",
    "\n",
    "import matplotlib.pyplot as plt\n",
    "\n",
    "test_data = process_test_data()\n",
    "\n",
    "#test_data=np.load('test_data.npy')\n",
    "\n",
    "fig=plt.figure()\n",
    "\n",
    "for num,data in enumerate(test_data[:12]):\n",
    "    #cat: [1,0]\n",
    "    #dog:[0,1]\n",
    "    \n",
    "    img_data = data[0]\n",
    "    \n",
    "    y=fig.add_subplot(3,4,num+1)\n",
    "    \n",
    "    orig = img_data\n",
    "    data = img_data.reshape(IMG_SIZE, IMG_SIZE,1)\n",
    "    \n",
    "    model_out=model.predict([data])[0]\n",
    "    \n",
    "    if np.argmax(model_out) == 1:\n",
    "        str_label='DOG'\n",
    "    else:\n",
    "        str_label='Cat'\n",
    "        \n",
    "    y.imshow(orig,cmap='gray')\n",
    "    plt.title(str_label)\n",
    "    \n",
    "plt.show()\n",
    "    "
   ]
  },
  {
   "cell_type": "code",
   "execution_count": null,
   "metadata": {},
   "outputs": [],
   "source": []
  },
  {
   "cell_type": "code",
   "execution_count": null,
   "metadata": {},
   "outputs": [],
   "source": []
  },
  {
   "cell_type": "code",
   "execution_count": null,
   "metadata": {},
   "outputs": [],
   "source": []
  },
  {
   "cell_type": "code",
   "execution_count": null,
   "metadata": {},
   "outputs": [],
   "source": []
  },
  {
   "cell_type": "code",
   "execution_count": null,
   "metadata": {},
   "outputs": [],
   "source": []
  },
  {
   "cell_type": "code",
   "execution_count": 13,
   "metadata": {},
   "outputs": [],
   "source": [
    "z=np.array([[[2,3,4,5],[1]],[[3,6,2,5],[0]],[[3,6,2,5],[0]]])"
   ]
  },
  {
   "cell_type": "code",
   "execution_count": 14,
   "metadata": {},
   "outputs": [
    {
     "data": {
      "text/plain": [
       "(3, 2)"
      ]
     },
     "execution_count": 14,
     "metadata": {},
     "output_type": "execute_result"
    }
   ],
   "source": [
    "z.shape"
   ]
  },
  {
   "cell_type": "code",
   "execution_count": 15,
   "metadata": {},
   "outputs": [
    {
     "data": {
      "text/plain": [
       "array([[0., 0., 0., 0., 0.],\n",
       "       [0., 0., 0., 0., 0.],\n",
       "       [0., 0., 0., 0., 0.]])"
      ]
     },
     "execution_count": 15,
     "metadata": {},
     "output_type": "execute_result"
    }
   ],
   "source": [
    "n=np.zeros([3,5]) #created zero array so that we can replace with real value\n",
    "n"
   ]
  },
  {
   "cell_type": "code",
   "execution_count": 16,
   "metadata": {},
   "outputs": [
    {
     "data": {
      "text/plain": [
       "[2, 3, 4, 5]"
      ]
     },
     "execution_count": 16,
     "metadata": {},
     "output_type": "execute_result"
    }
   ],
   "source": [
    "z[0][0]"
   ]
  },
  {
   "cell_type": "code",
   "execution_count": 17,
   "metadata": {},
   "outputs": [],
   "source": [
    "for i in range(3):\n",
    "    n[i]=np.hstack((z[i][0],z[i][1]))     #same as axis=1  "
   ]
  },
  {
   "cell_type": "code",
   "execution_count": 18,
   "metadata": {},
   "outputs": [
    {
     "data": {
      "text/plain": [
       "array([[2., 3., 4., 5., 1.],\n",
       "       [3., 6., 2., 5., 0.],\n",
       "       [3., 6., 2., 5., 0.]])"
      ]
     },
     "execution_count": 18,
     "metadata": {},
     "output_type": "execute_result"
    }
   ],
   "source": [
    "n"
   ]
  },
  {
   "cell_type": "code",
   "execution_count": 20,
   "metadata": {},
   "outputs": [],
   "source": [
    "import numpy as np\n",
    "z=np.zeros([25000,2501])"
   ]
  },
  {
   "cell_type": "code",
   "execution_count": 21,
   "metadata": {},
   "outputs": [],
   "source": [
    "c=np.arange(20).reshape(4,5)"
   ]
  },
  {
   "cell_type": "code",
   "execution_count": 22,
   "metadata": {},
   "outputs": [
    {
     "data": {
      "text/plain": [
       "array([ 0,  1,  2,  3,  4,  5,  6,  7,  8,  9, 10, 11, 12, 13, 14, 15, 16,\n",
       "       17, 18, 19])"
      ]
     },
     "execution_count": 22,
     "metadata": {},
     "output_type": "execute_result"
    }
   ],
   "source": [
    "c.ravel() #to convert to single line"
   ]
  },
  {
   "cell_type": "code",
   "execution_count": 23,
   "metadata": {},
   "outputs": [],
   "source": [
    "for i in range(25000):\n",
    "    z[i]=np.hstack((training[i][0].ravel(),training[i][1]))"
   ]
  },
  {
   "cell_type": "code",
   "execution_count": 24,
   "metadata": {},
   "outputs": [],
   "source": [
    "z\n",
    "x=z[:,:-1]\n",
    "y=z[:,-1:]"
   ]
  },
  {
   "cell_type": "code",
   "execution_count": 25,
   "metadata": {},
   "outputs": [
    {
     "data": {
      "text/plain": [
       "(25000, 2500)"
      ]
     },
     "execution_count": 25,
     "metadata": {},
     "output_type": "execute_result"
    }
   ],
   "source": [
    "x.shape"
   ]
  },
  {
   "cell_type": "code",
   "execution_count": null,
   "metadata": {},
   "outputs": [],
   "source": [
    "train_ar=np.zeros((25000,2501))\n",
    "for i in range(25000):\n",
    "    train_ar[i]=np.hstack((np.array(train[i])[0].ravel(),\n",
    "                           np.array(train[i])[1]))"
   ]
  },
  {
   "cell_type": "code",
   "execution_count": null,
   "metadata": {},
   "outputs": [],
   "source": [
    "X=train_ar[:,:-1]\n",
    "Y=train_ar[:,-1]"
   ]
  },
  {
   "cell_type": "code",
   "execution_count": 26,
   "metadata": {},
   "outputs": [],
   "source": [
    "from sklearn.model_selection import train_test_split"
   ]
  },
  {
   "cell_type": "code",
   "execution_count": null,
   "metadata": {},
   "outputs": [],
   "source": [
    "xtrain,xtest,ytrain,ytest=train_test_split(X,Y)"
   ]
  },
  {
   "cell_type": "code",
   "execution_count": null,
   "metadata": {},
   "outputs": [],
   "source": [
    "feature=t[:,:1]\n",
    "label=t[:,1:]"
   ]
  },
  {
   "cell_type": "code",
   "execution_count": null,
   "metadata": {},
   "outputs": [],
   "source": [
    "f_train=tf.keras.utils.normalize(feature)"
   ]
  },
  {
   "cell_type": "code",
   "execution_count": null,
   "metadata": {},
   "outputs": [],
   "source": [
    "#Create Neural Structure\n",
    "model=tf.keras.models.Sequential()\n",
    "#Input Layer\n",
    "model.add(tf.keras.layers.Flatten())\n",
    "#First Hidden Layer\n",
    "model.add(tf.keras.layers.Dense(128,activation=tf.nn.relu))\n",
    "#Second Hidden Layer\n",
    "model.add(tf.keras.layers.Dense(128,activation=tf.nn.relu))\n",
    "#output Layer\n",
    "model.add(tf.keras.layers.Dense(2, activation=tf.nn.softmax))"
   ]
  },
  {
   "cell_type": "code",
   "execution_count": null,
   "metadata": {},
   "outputs": [],
   "source": [
    "#Error Optimization\n",
    "model.compile(optimizer= 'adam' , loss= 'sparse_categorical_crossentropy' , \n",
    "              metrics=['accuracy'])"
   ]
  },
  {
   "cell_type": "code",
   "execution_count": null,
   "metadata": {},
   "outputs": [],
   "source": [
    "model.fit(feature,label,epochs=3)"
   ]
  }
 ],
 "metadata": {
  "kernelspec": {
   "display_name": "Python 3",
   "language": "python",
   "name": "python3"
  },
  "language_info": {
   "codemirror_mode": {
    "name": "ipython",
    "version": 3
   },
   "file_extension": ".py",
   "mimetype": "text/x-python",
   "name": "python",
   "nbconvert_exporter": "python",
   "pygments_lexer": "ipython3",
   "version": "3.7.4"
  }
 },
 "nbformat": 4,
 "nbformat_minor": 2
}
